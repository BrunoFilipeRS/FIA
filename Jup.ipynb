{
 "cells": [
  {
   "cell_type": "code",
   "execution_count": 104,
   "metadata": {},
   "outputs": [],
   "source": [
    "import networkx as nx\n",
    "import matplotlib.pyplot as plt\n",
    "\n",
    "class NetworkGraph:\n",
    "    def __init__(self):\n",
    "        \"\"\"Initializes a new network graph.\"\"\"\n",
    "        self.graph = nx.Graph()\n",
    "        self.default_capacities = {\n",
    "            'Fiber': 1000,    # Default capacity of 1000 Mbps for Fiber\n",
    "            'WiFi': 200,      # Default capacity of 200 Mbps for WiFi\n",
    "            'Satellite': 5000 # Default capacity of 5000 Mbps for Satellite\n",
    "        }\n",
    "        self.orbital_distance = 35786 * 2  # Round trip orbital distance for satellite in kilometers\n",
    "        self.setup_network()\n",
    "\n",
    "    def setup_network(self):\n",
    "        \"\"\"Initial setup of network with predefined connections.\"\"\"\n",
    "        self.add_edge(\"Server\", \"Router1\", {'Fiber': 50, 'Satellite': self.orbital_distance})\n",
    "        self.add_edge(\"Router1\", \"Router2\", {'WiFi': 10, 'Satellite': self.orbital_distance})\n",
    "        self.add_edge(\"Router2\", \"Destination\", {'Satellite': self.orbital_distance})\n",
    "\n",
    "    def add_edge(self, from_node, to_node, network_types_distances):\n",
    "        \"\"\"Adds an edge with specified network types and distances.\"\"\"\n",
    "        for network_type, distance in network_types_distances.items():\n",
    "            capacity = self.default_capacities[network_type]\n",
    "            self.update_edge(from_node, to_node, network_type, capacity, 0, distance)\n",
    "\n",
    "    def update_edge(self, from_node, to_node, network_type, capacity, new_occupancy, distance):\n",
    "        \"\"\"Updates or creates an edge with new occupancy, capacity, and distance.\"\"\"\n",
    "        self.graph.add_edge(from_node, to_node, **{network_type: {\n",
    "            'capacity': capacity,\n",
    "            'occupancy': new_occupancy,\n",
    "            'distance': distance,\n",
    "            'effective_capacity': capacity  # Initially set to full capacity\n",
    "        }})\n",
    "\n",
    "    def calculate_latency(self, from_node, to_node, network_type):\n",
    "        \"\"\"Calculates the estimated latency for a given network type.\"\"\"\n",
    "        edge_data = self.graph[from_node][to_node][network_type]\n",
    "        distance_km = edge_data['distance']\n",
    "        speed = {\n",
    "            'Fiber': 200000,\n",
    "            'WiFi': 300000,\n",
    "            'Satellite': 300000\n",
    "        }[network_type]\n",
    "\n",
    "        propagation_latency = distance_km / speed\n",
    "        return propagation_latency\n",
    "\n",
    "    def simulate_message_transmission(self, start, end, message_size):\n",
    "        \"\"\"Simulate the transmission of a message checking bandwidth and latency constraints.\"\"\"\n",
    "        all_paths = nx.all_simple_paths(self.graph, source=start, target=end)\n",
    "        viable_paths = []\n",
    "        for path in all_paths:\n",
    "            is_viable = True\n",
    "            path_details = []\n",
    "            for i in range(len(path) - 1):\n",
    "                u, v = path[i], path[i+1]\n",
    "                best_link = None\n",
    "                for net_type, details in self.graph[u][v].items():\n",
    "                    if details['capacity'] >= message_size and (not best_link or self.calculate_latency(u, v, net_type) < self.calculate_latency(u, v, best_link)):\n",
    "                        best_link = net_type\n",
    "                if best_link:\n",
    "                    details = self.graph[u][v][best_link]\n",
    "                    latency = self.calculate_latency(u, v, best_link)\n",
    "                    path_details.append((u, v, best_link, details['occupancy'], details['effective_capacity'], latency))\n",
    "                else:\n",
    "                    is_viable = False\n",
    "                    break\n",
    "            if is_viable:\n",
    "                total_latency = sum(detail[-1] for detail in path_details)\n",
    "                if total_latency < 1:  # Less than 1 second\n",
    "                    viable_paths.append((path_details, total_latency))\n",
    "\n",
    "        if viable_paths:\n",
    "            best_path = min(viable_paths, key=lambda x: x[1])\n",
    "            path_description = \"\\n\".join(\n",
    "                f\"{detail[0]} -> {detail[1]} via {detail[2]}: Occupancy={detail[3]}%, Effective Capacity={detail[4]} Mbps, Segment Latency={detail[5]:.4f} s\"\n",
    "                for detail in best_path[0]\n",
    "            )\n",
    "            return f\"Best path with total latency {best_path[1]:.4f} seconds:\\n{path_description}\"\n",
    "        else:\n",
    "            return \"No viable path found\"\n",
    "\n",
    "    def draw_network(self):\n",
    "        \"\"\"Draws the network graph using matplotlib.\"\"\"\n",
    "        pos = nx.spring_layout(self.graph)\n",
    "        nx.draw(self.graph, pos, with_labels=True, node_color='lightblue', edge_color='gray')\n",
    "        plt.show()\n"
   ]
  },
  {
   "cell_type": "code",
   "execution_count": 107,
   "metadata": {},
   "outputs": [
    {
     "name": "stdout",
     "output_type": "stream",
     "text": [
      "Best path with total latency 0.2389 seconds:\n",
      "Server -> Router1 via Fiber: Occupancy=0%, Effective Capacity=1000 Mbps, Segment Latency=0.0003 s\n",
      "Router1 -> Router2 via WiFi: Occupancy=0%, Effective Capacity=200 Mbps, Segment Latency=0.0000 s\n",
      "Router2 -> Destination via Satellite: Occupancy=0%, Effective Capacity=5000 Mbps, Segment Latency=0.2386 s\n"
     ]
    },
    {
     "data": {
      "image/png": "[encoded data removed]",
      "text/plain": [
       "<Figure size 640x480 with 1 Axes>"
      ]
     },
     "metadata": {},
     "output_type": "display_data"
    }
   ],
   "source": [
    "# Usage example to test the NetworkGraph class\n",
    "if __name__ == \"__main__\":\n",
    "    net = NetworkGraph()\n",
    "    result = net.simulate_message_transmission(\"Server\", \"Destination\", 100)  # Simulate sending a 6000MB message\n",
    "    print(result)\n",
    "    net.draw_network()\n"
   ]
  }
 ],
 "metadata": {
  "kernelspec": {
   "display_name": "Python 3",
   "language": "python",
   "name": "python3"
  },
  "language_info": {
   "codemirror_mode": {
    "name": "ipython",
    "version": 3
   },
   "file_extension": ".py",
   "mimetype": "text/x-python",
   "name": "python",
   "nbconvert_exporter": "python",
   "pygments_lexer": "ipython3",
   "version": "3.11.8"
  }
 },
 "nbformat": 4,
 "nbformat_minor": 2
}
